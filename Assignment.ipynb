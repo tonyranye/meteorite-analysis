{
 "cells": [
  {
   "cell_type": "markdown",
   "metadata": {},
   "source": [
    "# <ins> Meterorite Landings on Earth </ins>\n",
    "### _Understanding the Relationship between Meteorite impacts throughout Different Regions_\n"
   ]
  },
  {
   "cell_type": "markdown",
   "metadata": {},
   "source": [
    "Throughout history, thousands of evenst know as Impact Events have taken place across the globe. An impact event is the collision between astronomical objects leading to some measurable effects. These events can occur quite regularly in other planetary systems aswell (other planets). \n",
    "\n",
    "They can occur from meteorites, the fragments of a meteoroid that survive the entry onto our planet and land on Earth, or meteoroids which typically have minor effects. However, when larger objects impact terrestrial planets like Earth, there can be significant physical and biospheric repercussions. These events provide crucial insight into understanding the makeup of our solar system and planet Earth. They have also played a significant role in the evolutionary history of life in our home. They've been responsible for some mass extinctions, as well as the rise to the dominance of mammals, leading to the eventual dominance of humans on Earth. Some of the most famous impacts events are the Tunguskan event thtat occured in Siberia, Russia, 1908,  which resulted in the a explosion of a meteor flattening around 2,000 square kilometers of forest. Another example is the Chelyabinsk meteor event, a more modern impact taking place in the Ural reginon in Russia, that resulted in numerous injuries. Its meteor is the largest recorded object to have entered earths atmosphere since the Tunguska event. This history suggests that the density of impacts events can be related directly to different regions of our planet, or possible detremined by cycles in time or locations.\n",
    "\n",
    "![Meteor](https://cff2.earth.com/uploads/2021/12/24065242/Asteroid-impact-scaled.jpg)\n",
    "##### *_Image Source: https://cff2.earth.com/uploads/2021/12/24065242/Asteroid-impact-scaled.jpg_*"
   ]
  },
  {
   "cell_type": "markdown",
   "metadata": {},
   "source": [
    "## 2 Methods\n",
    "### 2.1 Data Collection"
   ]
  },
  {
   "cell_type": "markdown",
   "metadata": {},
   "source": [
    "This catalogue of data from The Meteoritical Society registered publically at [Data.nasa](https://data.nasa.gov/Space-Science/Meteorite-Landings/gh4g-9sfh/about_data), a free onlice catalogue of Nasa's publically catalogue datasheets published 2015 [1]."
   ]
  },
  {
   "cell_type": "markdown",
   "metadata": {},
   "source": []
  },
  {
   "cell_type": "code",
   "execution_count": 16,
   "metadata": {
    "jupyter": {
     "is_executing": true
    }
   },
   "outputs": [],
   "source": [
    "\n",
    "import matplotlib.pyplot as plt\n",
    "import pandas as pd\n",
    "import seaborn as sns\n",
    "from IPython.display import display"
   ]
  },
  {
   "cell_type": "code",
   "execution_count": 17,
   "metadata": {
    "jupyter": {
     "is_executing": true
    }
   },
   "outputs": [],
   "source": [
    "# load data\n",
    "data = pd.read_csv('data/Meteorite_Landings_20241121.csv')"
   ]
  },
  {
   "cell_type": "markdown",
   "metadata": {},
   "source": [
    "### 2.2 Data Cleaning"
   ]
  },
  {
   "cell_type": "markdown",
   "metadata": {},
   "source": []
  },
  {
   "cell_type": "markdown",
   "metadata": {},
   "source": [
    "The Meteorite Landing dataset had some colums which were irrelevant to the content of this analysis, so they were removed(id, nametype, fall, recclass, nametype). As well as the column depicting the metorites discovery type since whether being see in person or later discovered. The impact would have likely occured within the region located."
   ]
  },
  {
   "cell_type": "code",
   "execution_count": 18,
   "metadata": {
    "jupyter": {
     "is_executing": true
    }
   },
   "outputs": [],
   "source": [
    "# Changing the formating for when outputting the data\n",
    "pd.set_option('display.width', 1000)        # Set a high width for display\n",
    "pd.set_option('display.max_colwidth', None)  # Do not truncate column content\n",
    "\n",
    "\n",
    "# removing unused columns\n",
    "data = data.drop(columns=['fall', 'id', 'recclass', 'nametype'])\n",
    "\n",
    "meteorites = pd.DataFrame(data)\n",
    "df = meteorites\n",
    "#  renaming the dataframe\n",
    "# df = df_cleaned\n",
    "\n",
    "# print(df)\n"
   ]
  },
  {
   "cell_type": "markdown",
   "metadata": {},
   "source": [
    "## Analyses"
   ]
  },
  {
   "cell_type": "markdown",
   "metadata": {},
   "source": [
    "\n",
    "I will analyze the connections between mass, year, and geolocation through exploratory methods, statistical summaries, and visualizations."
   ]
  },
  {
   "cell_type": "markdown",
   "metadata": {},
   "source": [
    "\n",
    "A descripitive analysis on meteorite mass, helps us understand the variety of destrctivess when it comes to these impacts."
   ]
  },
  {
   "cell_type": "code",
   "execution_count": 19,
   "metadata": {
    "jupyter": {
     "is_executing": true
    }
   },
   "outputs": [
    {
     "name": "stdout",
     "output_type": "stream",
     "text": [
      "Mean mass: 13277.79 g \n",
      "\n",
      "Max mass: 60000000.0 g\n",
      "Min mass: 0.0 g (less than a gram)\n"
     ]
    }
   ],
   "source": [
    "# mass statistics\n",
    "dm = df['mass (g)'].describe()\n",
    "\n",
    "find = df.loc[df['mass (g)'] == 0]\n",
    "\n",
    "\n",
    "print(f\"Mean mass: {round(dm['mean'],2)} g\", '\\n')\n",
    "print(f\"Max mass: {round(dm['max'],2)} g\")\n",
    "print(f\"Min mass: {(dm['min'])} g (less than a gram)\")"
   ]
  },
  {
   "cell_type": "markdown",
   "metadata": {},
   "source": [
    "Meteorites can come in variety of shapes and sizes, from being up to 60,000,000 grams or about 60 tons, to less than a single gram. Meteorite \"Hoba\", the largest one on earth comes from Namibia."
   ]
  },
  {
   "cell_type": "markdown",
   "metadata": {},
   "source": [
    "This analyse will begin by looking at the count of objects recovered  by each half centuary. As by what this graph shows, "
   ]
  },
  {
   "cell_type": "code",
   "execution_count": 20,
   "metadata": {
    "jupyter": {
     "is_executing": true
    }
   },
   "outputs": [
    {
     "data": {
      "image/png": "[encoded data removed]",
      "text/plain": [
       "<Figure size 640x480 with 1 Axes>"
      ]
     },
     "metadata": {},
     "output_type": "display_data"
    }
   ],
   "source": [
    "#creating a column by half centuary\n",
    "df['half_century'] = (df['year'] // 50 * 50)  # Use the correct column name here\n",
    "\n",
    "\n",
    "c = sns.countplot(x='half_century', hue='half_century', data=df, palette=\"viridis\", legend = False)  # Ensure the column name matches here\n",
    "c = c.set(title = \"Distrubution of Discoveries by years\", xlabel = \"Year\", ylabel = \"Count\")\n",
    "\n",
    "\n",
    "plt.xlim(10)\n",
    "plt.xticks(rotation=45)  # Optional: Rotate labels if necessary\n",
    "plt.tight_layout()       # Adjust layout to avoid overlap\n",
    "plt.show()\n"
   ]
  },
  {
   "cell_type": "markdown",
   "metadata": {},
   "source": [
    "Over the last 75 years, thanks to increasing enhancements in technology our ability to better record and analyze these event has increased immensly. This helps to show how much more precisely we've been able to understand impact events over the last few decades."
   ]
  },
  {
   "cell_type": "markdown",
   "metadata": {},
   "source": [
    "## Analyse"
   ]
  },
  {
   "cell_type": "markdown",
   "metadata": {},
   "source": [
    "I will explore the relationship between density of impact events  throughout different decades of history, aswell as where these events most frequently occur. This will look at the relationship between, year of discovery, mass, reclat(recorded latitude), reclong (recorded longitude)."
   ]
  },
  {
   "cell_type": "markdown",
   "metadata": {},
   "source": [
    "## Data"
   ]
  },
  {
   "cell_type": "markdown",
   "metadata": {},
   "source": [
    "Below is visualization of the relationship between total mass of objects recoved throughout different half centuary's. ex(1900 includes from 1900-1949 groupset)"
   ]
  },
  {
   "cell_type": "code",
   "execution_count": 21,
   "metadata": {},
   "outputs": [
    {
     "data": {
      "image/png": "[encoded data removed]",
      "text/plain": [
       "<Figure size 640x480 with 1 Axes>"
      ]
     },
     "metadata": {},
     "output_type": "display_data"
    }
   ],
   "source": [
    "\n",
    "\n",
    "# gather the sums of by mass discovered in each half cent\n",
    "\n",
    "mass_by_half_centuary = df.groupby('half_century')['mass (g)'].sum().reset_index()\n",
    "\n",
    "\n",
    "\n",
    "a = sns.barplot(hue = 'half_century', y = 'mass (g)', data = mass_by_half_centuary, legend=False, palette=\"flare\")\n",
    "a = a.set(title='Total Mass of Meteorites by half centuary', xlabel='Half Centuary', ylabel='Mass (g)')\n",
    "\n",
    "plt.xticks(rotation=45)  # Rotate labels if overcrowding\n",
    "plt.tight_layout()       # Adjust layout to avoid overlap\n",
    "plt.show()\n",
    "\n",
    "\n",
    "\n",
    "\n",
    "# print(df)"
   ]
  },
  {
   "cell_type": "markdown",
   "metadata": {},
   "source": [
    "From this we can see there appears to be a normal distribution over the sum mass of meteorites discovered over a cycle of 250 years."
   ]
  },
  {
   "cell_type": "markdown",
   "metadata": {},
   "source": [
    "Next, I will explore the relationship between fall location and geolocation. Since this is a lengthy process time-wise calculating the continent location from these coordinates, I will analyze from the years 1914 to 2014, as from within this range technology has allowed a better quantity and quality of data analysis."
   ]
  },
  {
   "cell_type": "code",
   "execution_count": 23,
   "metadata": {},
   "outputs": [
    {
     "name": "stderr",
     "output_type": "stream",
     "text": [
      "Processing points: 100%|██████████| 38093/38093 [00:13<00:00, 2756.36it/s]\n"
     ]
    }
   ],
   "source": [
    "import geopandas as gpd\n",
    "from tqdm import tqdm\n",
    "from shapely.geometry import Point\n",
    "from shapely.prepared import prep\n",
    "import numpy as np\n",
    "\n",
    "# Load and prepare continents data only once\n",
    "continents = gpd.read_file('shapefiles/World_Continents.shp').to_crs(epsg=4326)\n",
    "# Create prepared geometries for faster spatial operations\n",
    "continents['prepared_geom'] = continents['geometry'].apply(prep)\n",
    "\n",
    "# Pre-filter the DataFrame\n",
    "df = df[(df['reclat'] != 0) & (df['reclong'] != 0)]\n",
    "filtered_rows = df[df['year'] > 1913].copy()\n",
    "\n",
    "# Vectorized approach with progress bar\n",
    "def find_continent_batch(lats, longs):\n",
    "    results = []\n",
    "    # Pre-create all points\n",
    "    points = [Point(long, lat) for long, lat in zip(longs, lats)]\n",
    "    \n",
    "    # Process with progress bar\n",
    "    for point in tqdm(points, desc=\"Processing points\"):\n",
    "        continent_found = False\n",
    "        for idx, row in continents.iterrows():\n",
    "            if row['prepared_geom'].contains(point):\n",
    "                results.append(row['CONTINENT'])\n",
    "                continent_found = True\n",
    "                break\n",
    "        if not continent_found:\n",
    "            results.append(\"Non-Land\")\n",
    "    return results\n",
    "\n",
    "# Apply the optimized function\n",
    "filtered_rows['continent'] = find_continent_batch(filtered_rows['reclat'].values, \n",
    "                                                filtered_rows['reclong'].values)"
   ]
  },
  {
   "cell_type": "markdown",
   "metadata": {},
   "source": [
    "Discovering the relationship between the continental geolocation of objects found throughout different decades. With a total of 38,093 events."
   ]
  },
  {
   "cell_type": "code",
   "execution_count": null,
   "metadata": {},
   "outputs": [],
   "source": [
    "# creating a column by decade\n",
    "\n",
    "filtered_rows['decade'] = (filtered_rows['year'] // 10) *10\n",
    "\n",
    "\n",
    "grouped_data = filtered_rows.groupby(['decade', 'continent']).size().reset_index(name='count')\n",
    "\n",
    "\n",
    "sns.set_theme(style=\"whitegrid\")\n",
    "\n",
    "e = sns.relplot(data=grouped_data, x='decade', y='count', hue = 'continent', kind = \"line\", height=6,aspect=1.5)\n",
    "e.set(title='Meteorite Count by Decade', xlabel='Decades', ylabel='Count')\n",
    "plt.show()\n"
   ]
  },
  {
   "cell_type": "markdown",
   "metadata": {},
   "source": [
    "From this graph, we can determine:\n",
    "\n",
    "Low consistency: South America, North America, Europe, Oceania, Australia\n",
    "\n",
    "High Consistency: Antarctica, Africa, Asia\n",
    "\n",
    "However when this distrubution is directly compared with its mass counter part we see this."
   ]
  },
  {
   "cell_type": "code",
   "execution_count": null,
   "metadata": {},
   "outputs": [],
   "source": [
    "\n",
    "sns.set_theme(style=\"whitegrid\")\n",
    "r = sns.relplot(data=filtered_rows, x='decade', y='mass (g)', hue = 'continent', kind = \"line\", height=6,aspect=1.5)\n",
    "r = r.set(title='Meteorite Total Mass by Decade', xlabel='Decades', ylabel='Mass (g)')\n",
    "plt.ylim(0,6000000)\n",
    "\n",
    "plt.show()"
   ]
  },
  {
   "cell_type": "markdown",
   "metadata": {},
   "source": [
    "From the first graph, it shows that the majority of these impact events took place in Antartica between the 1960's and 2010's. However, our second graph doesn't reinforce this idea. It shows that through the early 1900's, Africa produced the largest meteorites compared to anywhere else."
   ]
  },
  {
   "cell_type": "markdown",
   "metadata": {},
   "source": [
    "## Discussion\n",
    "In this project, we analyzed the relationships between the amount and total mass of impact events throughout recent history and their continental distribution. Through an analysis of the total mass and impact counts, we proved our hypothesis by discovering a normal distribution through measurements of both mass and total count. By looking at the mass of continents, it was revealed that in the early 1900s, Africa had the largest total mass by a large margin. Continents like Asia and South America also experienced some peaks from this graph showing that Africa's large result can't be an outlier. This relationship does seem reasonable especially since the largest meteorite on earth does reside in Africa. Next, looking at the total sum of mass by a half-century, this visualization provided a much more symmetrical shape. It revealed a linear increase in mass over 125 years, then a decrease by the same amount in the same amount of time. This pattern appears to continue but on a smaller scale during the centuries before the 1700s, although this could be attributed to the lack of records during those periods since over 75% of the recorded data came from the 1950s-2010s. Therefore, we can conclude there do exist \"hot spots\" for these events, but are derived by a cycle of approximately 250 years through their quantity, and size. We can also say that events most often happen in the more southern and larger continents of our world. These outcomes highlight the fascinating connections between geography, history, and the objects from space in shaping our understanding of meteorite impacts and our solar system.\n",
    "\n",
    "\n"
   ]
  },
  {
   "cell_type": "markdown",
   "metadata": {},
   "source": [
    "## Refrences"
   ]
  },
  {
   "cell_type": "markdown",
   "metadata": {},
   "source": [
    "1. Source of data https://data.nasa.gov/Space-Science/Meteorite-Landings/gh4g-9sfh/data\n",
    "\n",
    "2. Seaborn data visualization https://seaborn.pydata.org/tutorial/introduction.html\n",
    "4. Matplotlib for data viz \n",
    "5. World Continents shapefiles: https://hub.arcgis.com/datasets/esri::world-continents/about\n",
    "6. from tqdm imported tqdm, Loading bar implementation for adding a continent column.\n"
   ]
  },
  {
   "cell_type": "markdown",
   "metadata": {},
   "source": []
  }
 ],
 "metadata": {
  "kernelspec": {
   "display_name": "Python 3",
   "language": "python",
   "name": "python3"
  },
  "language_info": {
   "codemirror_mode": {
    "name": "ipython",
    "version": 3
   },
   "file_extension": ".py",
   "mimetype": "text/x-python",
   "name": "python",
   "nbconvert_exporter": "python",
   "pygments_lexer": "ipython3",
   "version": "3.11.4"
  }
 },
 "nbformat": 4,
 "nbformat_minor": 2
}
